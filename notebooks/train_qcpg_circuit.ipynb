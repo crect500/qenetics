{
 "cells": [
  {
   "cell_type": "markdown",
   "id": "f29a3a30",
   "metadata": {},
   "source": [
    "# Training a Quantum Circuit to Predict CpG Site Methylation\n",
    "\n",
    "This notebook demonstrates the process of training a Parameterized Quantum Circuit (PQC) to predict whether a CpG site in a reference genome will be methylated.\n",
    "\n",
    "## Inputs\n",
    "\n",
    "- Sequences of nucleotides surrounding a CpG site. Encoded as one of the set {A, C, T, G}\n",
    "- Either 1 or 0 representing whether the majority of experiments found a site to be methylated or not, respectively\n",
    "\n",
    "## Extracting Surrounding Sequences\n",
    "\n",
    "This tool extracts sequences of the length provided from the reference genome. There is an option to extract only sequences with at least a certain number of experiments on the CpG sites."
   ]
  },
  {
   "cell_type": "code",
   "execution_count": 1,
   "id": "8d62e5f9",
   "metadata": {},
   "outputs": [],
   "source": [
    "from qenetics.qcpg import qcpg\n"
   ]
  },
  {
   "cell_type": "markdown",
   "id": "b64ec18d",
   "metadata": {},
   "source": [
    "## The Parameterized Quantum Circuit\n",
    "\n",
    "### Encoding Circuit\n",
    "\n",
    "Multi-Controlled X (MCX) gates are used to encode the nucledotide information at each location in the sequence. The active controls correspond to the binary representation of the index of each nucleotide and the four data qubits correspond to the nucleotides A, T, C, and G, respectively."
   ]
  },
  {
   "cell_type": "code",
   "execution_count": 2,
   "id": "80cbd07a",
   "metadata": {},
   "outputs": [
    {
     "name": "stdout",
     "output_type": "stream",
     "text": [
      "0: ─╭○─╭○─╭○─╭○─╭○─╭○─╭○─╭○─╭●─╭●─╭●─╭●─╭●─╭●─╭●─╭●─┤       \n",
      "1: ─├○─├○─├○─├○─├●─├●─├●─├●─├○─├○─├○─├○─├●─├●─├●─├●─┤       \n",
      "2: ─├○─├○─├●─├●─├○─├○─├●─├●─├○─├○─├●─├●─├○─├○─├●─├●─┤       \n",
      "3: ─├○─├●─├○─├●─├○─├●─├○─├●─├○─├●─├○─├●─├○─├●─├○─├●─┤       \n",
      "4: ─╰X─│──│──│──╰X─│──│──│──╰X─│──│──│──╰X─│──│──│──┤       \n",
      "5: ────╰X─│──│─────╰X─│──│─────╰X─│──│─────╰X─│──│──┤       \n",
      "6: ───────╰X─│────────╰X─│────────╰X─│────────╰X─│──┤ ╭<Z@Z>\n",
      "7: ──────────╰X──────────╰X──────────╰X──────────╰X─┤ ╰<Z@Z>\n"
     ]
    }
   ],
   "source": [
    "from numpy.typing import NDArray\n",
    "import pennylane as qml\n",
    "\n",
    "from qenetics.qcpg import qcpg\n",
    "from qenetics.tools.cpg_sampler import string_to_nucleotides, Nucleodtide\n",
    "\n",
    "\n",
    "sequence: list[Nucleodtide] = string_to_nucleotides(\"ATCGATCGATCGATCG\")\n",
    "data_register_size: int = 4\n",
    "address_register_size: int = qcpg.calculate_address_register_size(\n",
    "    len(sequence)\n",
    ")\n",
    "circuit_width: int = address_register_size + data_register_size\n",
    "\n",
    "@qml.qnode(qml.device(\"default.qubit\", wires=circuit_width))\n",
    "def run_encode_circuit(\n",
    "    sequence: list[Nucleodtide],\n",
    "):\n",
    "    qcpg.single_encode_all_nucleotides(sequence)\n",
    "    return qml.expval(\n",
    "        qml.PauliZ(wires=circuit_width - 2)\n",
    "        @ qml.PauliZ(wires=circuit_width - 1)\n",
    "    )\n",
    "\n",
    "print(qml.draw(run_encode_circuit)(sequence=sequence))"
   ]
  },
  {
   "cell_type": "markdown",
   "id": "20189c77",
   "metadata": {},
   "source": [
    "### Ansatz\n",
    "\n",
    "Below is the code to draw the second half of the circuit, which applies parameterized gates to the existing encoded state in an attempt to train a model that correctly categorizes each sequence as methylated or not."
   ]
  },
  {
   "cell_type": "code",
   "execution_count": 3,
   "id": "e36c24a1",
   "metadata": {},
   "outputs": [
    {
     "name": "stdout",
     "output_type": "stream",
     "text": [
      "0: ─╭StronglyEntanglingLayers(M0)─╭StronglyEntanglingLayers(M1)─┤       \n",
      "1: ─├StronglyEntanglingLayers(M0)─├StronglyEntanglingLayers(M1)─┤       \n",
      "2: ─├StronglyEntanglingLayers(M0)─├StronglyEntanglingLayers(M1)─┤       \n",
      "3: ─├StronglyEntanglingLayers(M0)─├StronglyEntanglingLayers(M1)─┤       \n",
      "4: ─├StronglyEntanglingLayers(M0)─├StronglyEntanglingLayers(M1)─┤       \n",
      "5: ─├StronglyEntanglingLayers(M0)─├StronglyEntanglingLayers(M1)─┤       \n",
      "6: ─├StronglyEntanglingLayers(M0)─├StronglyEntanglingLayers(M1)─┤ ╭<Z@Z>\n",
      "7: ─╰StronglyEntanglingLayers(M0)─╰StronglyEntanglingLayers(M1)─┤ ╰<Z@Z>\n",
      "\n",
      "M0 = \n",
      "[[[0.96361589 0.79293482 0.23048376]\n",
      "  [0.23390801 0.82517604 0.31622458]\n",
      "  [0.71361937 0.24813393 0.50982154]\n",
      "  [0.76518519 0.53301164 0.27281518]\n",
      "  [0.08983888 0.16238679 0.06364833]\n",
      "  [0.30117034 0.15672925 0.0931274 ]\n",
      "  [0.37797982 0.21020801 0.05751823]\n",
      "  [0.74530049 0.46723167 0.59926759]]]\n",
      "M1 = \n",
      "[[[0.94285808 0.62429347 0.9601778 ]\n",
      "  [0.63695646 0.71703647 0.91392788]\n",
      "  [0.96942012 0.44169122 0.01544133]\n",
      "  [0.72996736 0.61153199 0.50936917]\n",
      "  [0.12953864 0.47141185 0.02766474]\n",
      "  [0.84503359 0.20257378 0.2678744 ]\n",
      "  [0.41112496 0.52264182 0.94786733]\n",
      "  [0.52311455 0.93653194 0.98892229]]]\n"
     ]
    }
   ],
   "source": [
    "from pennylane import numpy as pnp\n",
    "\n",
    "\n",
    "@qml.qnode(qml.device(\"default.qubit\", wires=circuit_width))\n",
    "def run_ansatz_circuit(\n",
    "    parameters: NDArray[float],\n",
    "):\n",
    "    layer_quantity: int = parameters.shape[0]\n",
    "    wire_quantity: int = parameters.shape[1]\n",
    "    rotations_quantity: int = parameters.shape[2]\n",
    "    for layer_index in range(layer_quantity):\n",
    "        qml.StronglyEntanglingLayers(\n",
    "            parameters[layer_index, :, :].reshape(\n",
    "                (1, wire_quantity, rotations_quantity)\n",
    "            ),\n",
    "            range(wire_quantity),\n",
    "        )\n",
    "    return qml.expval(\n",
    "        qml.PauliZ(wires=circuit_width - 2)\n",
    "        @ qml.PauliZ(wires=circuit_width - 1)\n",
    "    )\n",
    "\n",
    "unique_nucleotide_quantity: int = 4\n",
    "layer_quantity: int = 2\n",
    "params_shape = qml.StronglyEntanglingLayers.shape(\n",
    "        n_layers=layer_quantity,\n",
    "        n_wires=address_register_size + unique_nucleotide_quantity,\n",
    "    )\n",
    "parameters: NDArray = pnp.random.default_rng().random(size=params_shape)\n",
    "print(qml.draw(run_ansatz_circuit)(parameters=parameters))"
   ]
  },
  {
   "cell_type": "markdown",
   "id": "6c4a21df",
   "metadata": {},
   "source": [
    "The [StronglyEntanglingLayers](https://docs.pennylane.ai/en/stable/code/api/pennylane.StronglyEntanglingLayers.html) ansatz provides a maximally entangled quantum circuit with maximal degrees of freedom in the rotation gates. Below is a graphic representation of the ansatz. \n",
    "\n",
    "![Strongly Entangling Layers](images/strongly_entangled.png \"The StronglyEntanglingLayers circuit from Pennylane\")"
   ]
  },
  {
   "cell_type": "markdown",
   "id": "d3f4d3b1",
   "metadata": {},
   "source": [
    "## Training the Model\n",
    "\n",
    "The sequences are read in and first split into a training and validation set. K-fold cross-validation is then performed on the training set by using non-overlapping training and test sets from the larger training set."
   ]
  },
  {
   "cell_type": "code",
   "execution_count": 4,
   "id": "75bd69e8",
   "metadata": {},
   "outputs": [
    {
     "name": "stdout",
     "output_type": "stream",
     "text": [
      "Total samples: 11\n",
      "Number of validation samples: 3\n",
      "Training fold 0 with 6 training samples and 2 test samples.\n"
     ]
    },
    {
     "name": "stderr",
     "output_type": "stream",
     "text": [
      "c:\\Users\\chris\\AppData\\Local\\Programs\\Python\\Python313\\Lib\\site-packages\\pennylane\\ops\\op_math\\composite.py:211: FutureWarning: functools.partial will be a method descriptor in future Python versions; wrap it in staticmethod() if you want to preserve the old behavior\n",
      "  return self._math_op(math.vstack(eigvals), axis=0)\n"
     ]
    },
    {
     "name": "stdout",
     "output_type": "stream",
     "text": [
      "\tLoss: 1.0349516868591309\n",
      "\tPerformance metrics: Metrics(confusion_matrix=ConfusionMatrix(true_positives=0, false_positives=1, false_negatives=0, true_negatives=1), accuracy=0.5, true_positive_rate=0, false_positive_rate=0.5, f1=0.0)\n",
      "Training fold 1 with 6 training samples and 2 test samples.\n",
      "\tLoss: 1.0362305641174316\n",
      "\tPerformance metrics: Metrics(confusion_matrix=ConfusionMatrix(true_positives=0, false_positives=0, false_negatives=0, true_negatives=2), accuracy=1.0, true_positive_rate=0, false_positive_rate=1.0, f1=0)\n",
      "Training fold 2 with 6 training samples and 2 test samples.\n",
      "\tLoss: 0.8948051333427429\n",
      "\tPerformance metrics: Metrics(confusion_matrix=ConfusionMatrix(true_positives=1, false_positives=1, false_negatives=0, true_negatives=0), accuracy=0.5, true_positive_rate=1.0, false_positive_rate=0.0, f1=0.6666666666666666)\n",
      "Training fold 3 with 6 training samples and 2 test samples.\n",
      "\tLoss: 0.8348903059959412\n",
      "\tPerformance metrics: Metrics(confusion_matrix=ConfusionMatrix(true_positives=0, false_positives=2, false_negatives=0, true_negatives=0), accuracy=0.0, true_positive_rate=0, false_positive_rate=0.0, f1=0.0)\n"
     ]
    }
   ],
   "source": [
    "from pathlib import Path\n",
    "from tempfile import TemporaryDirectory\n",
    "\n",
    "from sklearn.model_selection import train_test_split, KFold\n",
    "\n",
    "from qenetics.qcpg import qcpg\n",
    "from qenetics.tools import cpg_sampler\n",
    "\n",
    "\n",
    "seed: int = 50\n",
    "sequences_filepath = Path(\"data/sequences.csv\")\n",
    "sequences, methylations = cpg_sampler.load_methylation_samples(sequences_filepath)\n",
    "print(f\"Total samples: {len(sequences)}\")\n",
    "\n",
    "(\n",
    "        performance_sequences,\n",
    "        validation_sequences,\n",
    "        performance_methylation,\n",
    "        validation_methylation,\n",
    "    ) = train_test_split(sequences, methylations, random_state=seed, train_size=0.8, test_size=0.2)\n",
    "print(f\"Number of validation samples: {len(validation_sequences)}\")\n",
    "\n",
    "unique_nucleotide_quantity: int = 4\n",
    "fold_quantity: int = 4\n",
    "layer_quantity: int = 2\n",
    "iteration_quantity: int = 5\n",
    "for fold_number, (train_index, test_index) in enumerate(KFold(\n",
    "    n_splits=fold_quantity, random_state=seed, shuffle=True).split(performance_sequences)):\n",
    "    print(f\"Training fold {fold_number} with {len(train_index)} training samples \"\n",
    "          f\"and {len(test_index)} test samples.\")\n",
    "    training_sequences: list[list[Nucleodtide]] = [performance_sequences[index] for index in train_index]\n",
    "    training_methylation: list[int] = [performance_methylation[index] for index in train_index]\n",
    "    test_sequences: list[list[Nucleodtide]] = [performance_sequences[index] for index in test_index]\n",
    "    test_methylation: list[int] = [performance_methylation[index] for index in test_index]\n",
    "    address_register_size: int = qcpg.calculate_address_register_size(\n",
    "        len(training_sequences[0])\n",
    "    )\n",
    "    params_shape = qml.StronglyEntanglingLayers.shape(\n",
    "        n_layers=layer_quantity,\n",
    "        n_wires=address_register_size + unique_nucleotide_quantity,\n",
    "    )\n",
    "    parameters: NDArray = pnp.random.default_rng().random(size=params_shape)\n",
    "    with TemporaryDirectory() as temp_dir:\n",
    "        temporary_metrics_file = Path(temp_dir) / \"temp_metrics.csv\"\n",
    "        trained_parameters, loss_history, metrics_history = (\n",
    "            qcpg.train_strongly_entangled_qcpg_circuit(\n",
    "                parameters,\n",
    "                training_sequences,\n",
    "                training_methylation,\n",
    "                test_sequences,\n",
    "                test_methylation,\n",
    "                temporary_metrics_file,\n",
    "                iteration_quantity,\n",
    "            )\n",
    "        )\n",
    "        print(f\"\\tLoss: {loss_history[-1]}\")\n",
    "        print(f\"\\tPerformance metrics: {metrics_history[-1]}\")\n",
    "    "
   ]
  }
 ],
 "metadata": {
  "kernelspec": {
   "display_name": "Python 3",
   "language": "python",
   "name": "python3"
  },
  "language_info": {
   "codemirror_mode": {
    "name": "ipython",
    "version": 3
   },
   "file_extension": ".py",
   "mimetype": "text/x-python",
   "name": "python",
   "nbconvert_exporter": "python",
   "pygments_lexer": "ipython3",
   "version": "3.13.0"
  }
 },
 "nbformat": 4,
 "nbformat_minor": 5
}
